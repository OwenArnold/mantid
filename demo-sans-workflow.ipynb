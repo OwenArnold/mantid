{
 "cells": [
  {
   "cell_type": "code",
   "execution_count": 18,
   "metadata": {},
   "outputs": [],
   "source": [
    "import site\n",
    "import os\n",
    "# ADD Mantid to the python path. \n",
    "site.addsitedir('/Applications/MantidPlot.app/Contents/MacOS')"
   ]
  },
  {
   "cell_type": "code",
   "execution_count": 19,
   "metadata": {},
   "outputs": [],
   "source": [
    "from mantid.simpleapi import *\n",
    "from ISISCommandInterface import *"
   ]
  },
  {
   "cell_type": "code",
   "execution_count": 20,
   "metadata": {},
   "outputs": [],
   "source": [
    "# Set the search directory to be the same as {MANTID_DATA_STORE} from https://confluence.esss.lu.se/display/DAM/SANS2D+Data+Files\n",
    "config.appendDataSearchDir(os.path.join(os.getcwd(), '..', 'build', 'ExternalData'))"
   ]
  },
  {
   "cell_type": "code",
   "execution_count": 21,
   "metadata": {},
   "outputs": [
    {
     "name": "stdout",
     "output_type": "stream",
     "text": [
      "SANS2D()\n",
      "#Opening \"MaskSANS2DReductionGUI_LimitEventsTime.txt\"\n",
      "FOR CHANGER\n",
      "#Success reading \"MaskSANS2DReductionGUI_LimitEventsTime.txt\" is True\n",
      "AssignSample(\"22048\")\n",
      "WavRangeReduction(None, None, None)\n",
      "Mask check 22048rear_1D_1.5_12.5: 2299 masked pixels\n"
     ]
    },
    {
     "data": {
      "text/plain": [
       "'22048rear_1D_1.5_12.5'"
      ]
     },
     "execution_count": 21,
     "metadata": {},
     "output_type": "execute_result"
    }
   ],
   "source": [
    "# See https://github.com/mantidproject/mantid/blob/master/Testing/SystemTests/tests/analysis/SANS2DLimitEventsTime.py\n",
    "SANS2D()\n",
    "MaskFile('MaskSANS2DReductionGUI_LimitEventsTime.txt')\n",
    "AssignSample('22048')\n",
    "WavRangeReduction()"
   ]
  },
  {
   "cell_type": "code",
   "execution_count": 22,
   "metadata": {},
   "outputs": [],
   "source": [
    "import matplotlib.pyplot as plt"
   ]
  },
  {
   "cell_type": "code",
   "execution_count": 23,
   "metadata": {},
   "outputs": [
    {
     "data": {
      "image/png": "[encoded data removed]",
      "text/plain": [
       "<Figure size 432x288 with 1 Axes>"
      ]
     },
     "metadata": {
      "needs_background": "light"
     },
     "output_type": "display_data"
    }
   ],
   "source": [
    "ws = ConvertToPointData('22048rear_1D_1.5_12.5') # Convert to point data for plotting\n",
    "plt.plot(ws.readX(0), ws.readY(0))\n",
    "plt.ylabel('I')\n",
    "plt.xlabel('Q')\n",
    "plt.show()"
   ]
  },
  {
   "cell_type": "code",
   "execution_count": null,
   "metadata": {},
   "outputs": [],
   "source": []
  }
 ],
 "metadata": {
  "kernelspec": {
   "display_name": "Python 2",
   "language": "python",
   "name": "python2"
  },
  "language_info": {
   "codemirror_mode": {
    "name": "ipython",
    "version": 2
   },
   "file_extension": ".py",
   "mimetype": "text/x-python",
   "name": "python",
   "nbconvert_exporter": "python",
   "pygments_lexer": "ipython2",
   "version": "2.7.10"
  }
 },
 "nbformat": 4,
 "nbformat_minor": 2
}
